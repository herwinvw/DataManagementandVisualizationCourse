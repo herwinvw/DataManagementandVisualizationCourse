{
 "cells": [
  {
   "cell_type": "markdown",
   "metadata": {},
   "source": [
    "# Data Management and Visualization, assignment 1: Getting Your Research Project Started"
   ]
  },
  {
   "cell_type": "markdown",
   "metadata": {},
   "source": [
    "## STEP 1: Dataset\n",
    "I am using the bike sharing dataset of https://archive.ics.uci.edu/ml/datasets/Bike+Sharing+Dataset, which provides data on how many bikes are rent out on specific hours of specific days, the weather on these days, whether the day was a weekday or not, etc. I would like to be able to predict the number of bikes rented out, given some information on a specific day and/or time (e.g. the weather conditions, which day/time it is, whether it is a weekday/holiday, etc.)."
   ]
  },
  {
   "cell_type": "markdown",
   "metadata": {},
   "source": [
    "## STEP 2: Topic of interest\n",
    "I would like to be able to predict the number of bikes rented out, given some information on a specific day and/or time (e.g. the weather conditions, which day/time it is, whether it is a weekday/holiday, etc.)."
   ]
  },
  {
   "cell_type": "markdown",
   "metadata": {},
   "source": [
    "## STEP 3: Personal codebook\n",
    "The dataset contains the following variables that are relevant to the topic of STEP 2:\n",
    " * *cnt*: the total number of bikes rented (=casual+registered)\n",
    " * *dteday*: date in MM/DD/YYYY format\n",
    " * *season*: this is actually quarter (1 to 4) not really season\n",
    " * *yr*: year (0: 2011, 1:2012)\n",
    " * *mnth* : month ( 1 to 12)\n",
    " * *hr* : hour (0 to 23)\n",
    " * *holiday* : whether day is holiday or not (1: holiday, 0: no holiday)\n",
    " * *weekday* : day of the week (0 to 6, 0 is Sunday)\n",
    " * *workingday* : if day is neither weekend nor holiday is 1, otherwise is 0.\n",
    " * *weathersit* : \n",
    "     * 1: Clear, Few clouds, Partly cloudy, Partly cloudy\n",
    "     * 2: Mist + Cloudy, Mist + Broken clouds, Mist + Few clouds, Mist\n",
    "     * 3: Light Snow, Light Rain + Thunderstorm + Scattered clouds, Light Rain + Scattered clouds\n",
    "     * 4: Heavy Rain + Ice Pallets + Thunderstorm + Mist, Snow + Fog\n",
    " * *temp* : Normalized temperature (0..1) in Celsius. The values are divided to 41 (max)\n",
    " * *atemp*: Normalized feeling temperature (0..1) in Celsius. The values are divided to 50 (max)\n",
    " * *hum*: Normalized humidity (0..1). The values are divided to 100 (max)\n",
    " * *windspeed*: Normalized wind speed (0..1). The values are divided to 67 (max)"
   ]
  },
  {
   "cell_type": "markdown",
   "metadata": {},
   "source": [
    "## STEP 4: Second topic\n",
    "The dataset contains both registered users and casual users. Is their bike rental behavior different? For example, do casual users rent a bikes mostly in the weekend and regular users during weekdays?"
   ]
  },
  {
   "cell_type": "markdown",
   "metadata": {},
   "source": [
    "## STEP 5: Variables for the second topic\n",
    "The following variables in the dataset can help in the second topic:\n",
    "* *casual*: then number of bikes rented by casual users\n",
    "* *registered*: the number of bikes rented by registered users\n",
    " "
   ]
  },
  {
   "cell_type": "markdown",
   "metadata": {},
   "source": [
    "## STEP 6: Literature review\n",
    "I searched for \"bike rental\" and \"bike sharing\" and \"bike sharing users\" on google scholar and found the following on regular vs casual use of rented bikes:\n",
    "\n",
    "The majority of users of bike sharing systems rent bikes to commute to work (66% in Paris[1], 75% in Barcelona [2], >50% in North America [4]). Different temporal patterns for shared bike usage between week days and weekends were observed both in Barcelona [2] and in Paris [3]: during week days, peaks of usage were observed during rush hour, which were not seen at weekends.\n",
    "\n",
    "Casual users predominately rent a bike for Tourism/Sightseeing (84% of casual users interviewed in the San Fransisco Bay area, see [4]).\n",
    "\n",
    "### References\n",
    "[1] The Role of Smart Bike-sharing Systems in Urban Mobility, Peter Midgley, Land Transport Authority JOURNEY (Issue 2), 2009\n",
    "\n",
    "[2] Sensing and predicting the pulse of the city through shared bicycling, Jon Froehlich, Joachim Neumann, and Nuria Oliver, IJCAI'09 Proceedings of the 21st international jont conference on Artifical intelligence, 2009\n",
    "\n",
    "[3] Probabilistic Forecasts of Bike-Sharing Systems for Journey Planning, Nicolas Gast, Guillaume Massonnet, Daniel Reijsbergen, Mirco Tribastone, Proceeding CIKM '15 Proceedings of the 24th ACM International on Conference on Information and Knowledge Management, Pages 703-712, 2015\n",
    "\n",
    "[4] Bay Area Bike Share Casual Users Survey Report: A Comparative Analysis of Existing and Potential Bikesharing Users, Shaheen, Susan, Christensen, Matthew & Viegas de Lima, Isabel. Transportation Sustainability Research Center, UC Berkeley, Berkeley, CA. \n",
    "http://innovativemobility.org/wp-content/uploads/2015/05/Bay-Area-Bike-Share-Final-Casual-User-Report.pdf"
   ]
  },
  {
   "cell_type": "markdown",
   "metadata": {},
   "source": [
    "## STEP 7: Hypotheses\n",
    " * The number of bikes rented depends differently on hour of the day (hr), wether it is a workingday or holiday/weekend (workingday) for regular users vs registered users\n",
    " * Other factors, such as weather and season affect the number of rented out bikes in a similar manner in the two user types"
   ]
  }
 ],
 "metadata": {
  "kernelspec": {
   "display_name": "Python 3",
   "language": "python",
   "name": "python3"
  },
  "language_info": {
   "codemirror_mode": {
    "name": "ipython",
    "version": 3
   },
   "file_extension": ".py",
   "mimetype": "text/x-python",
   "name": "python",
   "nbconvert_exporter": "python",
   "pygments_lexer": "ipython3",
   "version": "3.5.1"
  }
 },
 "nbformat": 4,
 "nbformat_minor": 0
}
